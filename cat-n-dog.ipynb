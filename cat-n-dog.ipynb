{
 "cells": [
  {
   "cell_type": "code",
   "execution_count": 1,
   "metadata": {
    "_cell_guid": "79c7e3d0-c299-4dcb-8224-4455121ee9b0",
    "_uuid": "d629ff2d2480ee46fbb7e2d37f6b5fab8052498a"
   },
   "outputs": [],
   "source": [
    "import numpy as np # linear algebra\n",
    "import pandas as pd # data processing, CSV file I/O (e.g. pd.read_csv)\n",
    "import os,re, random,cv2"
   ]
  },
  {
   "cell_type": "code",
   "execution_count": 2,
   "metadata": {},
   "outputs": [
    {
     "name": "stderr",
     "output_type": "stream",
     "text": [
      "Using TensorFlow backend.\n"
     ]
    }
   ],
   "source": [
    "from keras.preprocessing.image import ImageDataGenerator\n",
    "from sklearn.model_selection import train_test_split\n",
    "from keras.models import Sequential\n",
    "from keras.layers import Conv2D, MaxPooling2D\n",
    "from keras.layers import Activation, Dropout, Flatten, Dense,BatchNormalization,Dropout\n",
    "from keras import backend as K\n",
    "from keras.callbacks import EarlyStopping, ReduceLROnPlateau"
   ]
  },
  {
   "cell_type": "markdown",
   "metadata": {},
   "source": [
    "# Prepare Traning Data"
   ]
  },
  {
   "cell_type": "code",
   "execution_count": 3,
   "metadata": {},
   "outputs": [],
   "source": [
    "TRAIN_DIR_CAT = '../input/dogs-vs-cats/dataset/dataset/training_set/cats/'\n",
    "train_img_cats = [TRAIN_DIR_CAT+i for i in os.listdir(TRAIN_DIR_CAT)] # use this for full dataset\n",
    "TRAIN_DIR_DOG = '../input/dogs-vs-cats/dataset/dataset/training_set/dogs/'\n",
    "train_img_dogs = [TRAIN_DIR_DOG+i for i in os.listdir(TRAIN_DIR_DOG)] # use this for full dataset"
   ]
  },
  {
   "cell_type": "code",
   "execution_count": 4,
   "metadata": {},
   "outputs": [],
   "source": [
    "def make_data(list_img,enc):\n",
    "    X=[]\n",
    "    y=[]\n",
    "    count = 0\n",
    "    random.shuffle(list_img)\n",
    "    for img in list_img:\n",
    "       #X.append(Image.open(img).resize((inp_wid,inp_ht), Image.ANTIALIAS))\n",
    "       X.append(cv2.resize(cv2.imread(img), (inp_wid,inp_ht), interpolation=cv2.INTER_CUBIC))\n",
    "       y.append(enc)\n",
    "    return X,y"
   ]
  },
  {
   "cell_type": "code",
   "execution_count": 5,
   "metadata": {},
   "outputs": [],
   "source": [
    "inp_wid = 128\n",
    "inp_ht = 128\n",
    "batch_size = 16"
   ]
  },
  {
   "cell_type": "code",
   "execution_count": 6,
   "metadata": {},
   "outputs": [
    {
     "name": "stdout",
     "output_type": "stream",
     "text": [
      "8000\n",
      "8000\n"
     ]
    }
   ],
   "source": [
    "X_cat,y_cat = make_data(train_img_cats,0)\n",
    "X_dog,y_dog = make_data(train_img_dogs,1)\n",
    "c = list(zip(X_cat+X_dog,y_cat+y_dog))\n",
    "random.shuffle(c)\n",
    "X,Y = list(zip(*c))\n",
    "print(len(X))\n",
    "print(len(Y))"
   ]
  },
  {
   "cell_type": "code",
   "execution_count": 7,
   "metadata": {},
   "outputs": [],
   "source": [
    "X_train, X_val, Y_train, Y_val = train_test_split(X[0:4000],Y[0:4000], test_size=0.125, random_state=1)"
   ]
  },
  {
   "cell_type": "code",
   "execution_count": 8,
   "metadata": {},
   "outputs": [],
   "source": [
    "n_train = len(X_train)\n",
    "n_val = len(X_val)"
   ]
  },
  {
   "cell_type": "markdown",
   "metadata": {},
   "source": [
    "# Neural net"
   ]
  },
  {
   "cell_type": "code",
   "execution_count": 9,
   "metadata": {},
   "outputs": [
    {
     "name": "stdout",
     "output_type": "stream",
     "text": [
      "_________________________________________________________________\n",
      "Layer (type)                 Output Shape              Param #   \n",
      "=================================================================\n",
      "conv2d_1 (Conv2D)            (None, 126, 126, 32)      896       \n",
      "_________________________________________________________________\n",
      "activation_1 (Activation)    (None, 126, 126, 32)      0         \n",
      "_________________________________________________________________\n",
      "batch_normalization_1 (Batch (None, 126, 126, 32)      128       \n",
      "_________________________________________________________________\n",
      "max_pooling2d_1 (MaxPooling2 (None, 63, 63, 32)        0         \n",
      "_________________________________________________________________\n",
      "dropout_1 (Dropout)          (None, 63, 63, 32)        0         \n",
      "_________________________________________________________________\n",
      "conv2d_2 (Conv2D)            (None, 61, 61, 64)        18496     \n",
      "_________________________________________________________________\n",
      "activation_2 (Activation)    (None, 61, 61, 64)        0         \n",
      "_________________________________________________________________\n",
      "batch_normalization_2 (Batch (None, 61, 61, 64)        256       \n",
      "_________________________________________________________________\n",
      "max_pooling2d_2 (MaxPooling2 (None, 30, 30, 64)        0         \n",
      "_________________________________________________________________\n",
      "dropout_2 (Dropout)          (None, 30, 30, 64)        0         \n",
      "_________________________________________________________________\n",
      "conv2d_3 (Conv2D)            (None, 28, 28, 128)       73856     \n",
      "_________________________________________________________________\n",
      "activation_3 (Activation)    (None, 28, 28, 128)       0         \n",
      "_________________________________________________________________\n",
      "batch_normalization_3 (Batch (None, 28, 28, 128)       512       \n",
      "_________________________________________________________________\n",
      "max_pooling2d_3 (MaxPooling2 (None, 14, 14, 128)       0         \n",
      "_________________________________________________________________\n",
      "dropout_3 (Dropout)          (None, 14, 14, 128)       0         \n",
      "_________________________________________________________________\n",
      "conv2d_4 (Conv2D)            (None, 12, 12, 64)        73792     \n",
      "_________________________________________________________________\n",
      "activation_4 (Activation)    (None, 12, 12, 64)        0         \n",
      "_________________________________________________________________\n",
      "batch_normalization_4 (Batch (None, 12, 12, 64)        256       \n",
      "_________________________________________________________________\n",
      "max_pooling2d_4 (MaxPooling2 (None, 6, 6, 64)          0         \n",
      "_________________________________________________________________\n",
      "dropout_4 (Dropout)          (None, 6, 6, 64)          0         \n",
      "_________________________________________________________________\n",
      "flatten_1 (Flatten)          (None, 2304)              0         \n",
      "_________________________________________________________________\n",
      "dense_1 (Dense)              (None, 128)               295040    \n",
      "_________________________________________________________________\n",
      "activation_5 (Activation)    (None, 128)               0         \n",
      "_________________________________________________________________\n",
      "batch_normalization_5 (Batch (None, 128)               512       \n",
      "_________________________________________________________________\n",
      "dense_2 (Dense)              (None, 1)                 129       \n",
      "_________________________________________________________________\n",
      "activation_6 (Activation)    (None, 1)                 0         \n",
      "=================================================================\n",
      "Total params: 463,873\n",
      "Trainable params: 463,041\n",
      "Non-trainable params: 832\n",
      "_________________________________________________________________\n"
     ]
    }
   ],
   "source": [
    "model = Sequential()\n",
    "\n",
    "# layer num 1\n",
    "model.add(Conv2D(32,(3,3),input_shape=(inp_wid,inp_ht,3)))\n",
    "model.add(Activation('relu'))\n",
    "model.add(BatchNormalization())\n",
    "model.add(MaxPooling2D(pool_size=(2, 2)))\n",
    "model.add(Dropout(0.25))\n",
    "\n",
    "# layer num 2\n",
    "model.add(Conv2D(64,(3,3)))\n",
    "model.add(Activation('relu'))\n",
    "model.add(BatchNormalization())\n",
    "model.add(MaxPooling2D(pool_size=(2, 2)))\n",
    "model.add(Dropout(0.25))\n",
    "\n",
    "# layer num 3\n",
    "model.add(Conv2D(128,(3,3)))\n",
    "model.add(Activation('relu'))\n",
    "model.add(BatchNormalization())\n",
    "model.add(MaxPooling2D(pool_size=(2, 2)))\n",
    "model.add(Dropout(0.25))\n",
    "\n",
    "# layer num 4\n",
    "model.add(Conv2D(64,(3,3)))\n",
    "model.add(Activation('relu'))\n",
    "model.add(BatchNormalization())\n",
    "model.add(MaxPooling2D(pool_size=(2, 2)))\n",
    "model.add(Dropout(0.5))\n",
    "\n",
    "model.add(Flatten())\n",
    "model.add(Dense(128))\n",
    "model.add(Activation('relu'))\n",
    "model.add(BatchNormalization())\n",
    "model.add(Dense(1))\n",
    "model.add(Activation('sigmoid'))\n",
    "\n",
    "model.compile(loss='binary_crossentropy',optimizer='adam',metrics=['accuracy'])\n",
    "model.summary()"
   ]
  },
  {
   "cell_type": "markdown",
   "metadata": {},
   "source": [
    "# Training Generator"
   ]
  },
  {
   "cell_type": "code",
   "execution_count": 10,
   "metadata": {},
   "outputs": [],
   "source": [
    "train_datagen = ImageDataGenerator(\n",
    "    rescale=1. / 255,\n",
    "    shear_range=0.2,\n",
    "    zoom_range=0.2,\n",
    "    horizontal_flip=True)\n",
    "val_datagen = ImageDataGenerator(\n",
    "    rescale=1. / 255,\n",
    "    shear_range=0.2,\n",
    "    zoom_range=0.2,\n",
    "    horizontal_flip=True)"
   ]
  },
  {
   "cell_type": "code",
   "execution_count": 11,
   "metadata": {},
   "outputs": [],
   "source": [
    "train_generator = train_datagen.flow(np.array(X_train), Y_train, batch_size=batch_size)\n",
    "val_generator = val_datagen.flow(np.array(X_val), Y_val, batch_size=batch_size)"
   ]
  },
  {
   "cell_type": "markdown",
   "metadata": {},
   "source": [
    "## Callbacks"
   ]
  },
  {
   "cell_type": "code",
   "execution_count": 12,
   "metadata": {},
   "outputs": [],
   "source": [
    "earlystop = EarlyStopping(patience=10)"
   ]
  },
  {
   "cell_type": "code",
   "execution_count": 13,
   "metadata": {},
   "outputs": [],
   "source": [
    "lrr = ReduceLROnPlateau(monitor='val_acc', \n",
    "                                            patience=2, \n",
    "                                            verbose=1, \n",
    "                                            factor=0.5, \n",
    "                                            min_lr=0.00001)"
   ]
  },
  {
   "cell_type": "code",
   "execution_count": 14,
   "metadata": {},
   "outputs": [],
   "source": [
    "callbacks = [earlystop,lrr]"
   ]
  },
  {
   "cell_type": "code",
   "execution_count": 15,
   "metadata": {},
   "outputs": [
    {
     "name": "stdout",
     "output_type": "stream",
     "text": [
      "Epoch 1/32\n",
      "218/218 [==============================] - 17s 76ms/step - loss: 0.7892 - acc: 0.5929 - val_loss: 0.6776 - val_acc: 0.6391\n",
      "Epoch 2/32\n",
      "218/218 [==============================] - 13s 61ms/step - loss: 0.6562 - acc: 0.6328 - val_loss: 0.6382 - val_acc: 0.6364\n",
      "Epoch 3/32\n",
      "218/218 [==============================] - 13s 61ms/step - loss: 0.6157 - acc: 0.6698 - val_loss: 0.6766 - val_acc: 0.6012\n",
      "\n",
      "Epoch 00003: ReduceLROnPlateau reducing learning rate to 0.0005000000237487257.\n",
      "Epoch 4/32\n",
      "218/218 [==============================] - 13s 61ms/step - loss: 0.5624 - acc: 0.7170 - val_loss: 0.6504 - val_acc: 0.6529\n",
      "Epoch 5/32\n",
      "218/218 [==============================] - 13s 61ms/step - loss: 0.5459 - acc: 0.7269 - val_loss: 0.5682 - val_acc: 0.7025\n",
      "Epoch 6/32\n",
      "218/218 [==============================] - 13s 61ms/step - loss: 0.5424 - acc: 0.7245 - val_loss: 0.5847 - val_acc: 0.7004\n",
      "Epoch 7/32\n",
      "218/218 [==============================] - 13s 61ms/step - loss: 0.5124 - acc: 0.7553 - val_loss: 0.5215 - val_acc: 0.7231\n",
      "Epoch 8/32\n",
      "218/218 [==============================] - 13s 61ms/step - loss: 0.5071 - acc: 0.7461 - val_loss: 0.5686 - val_acc: 0.6983\n",
      "Epoch 9/32\n",
      "218/218 [==============================] - 13s 62ms/step - loss: 0.5061 - acc: 0.7510 - val_loss: 0.5053 - val_acc: 0.7562\n",
      "Epoch 10/32\n",
      "218/218 [==============================] - 14s 62ms/step - loss: 0.5017 - acc: 0.7534 - val_loss: 0.5737 - val_acc: 0.7273\n",
      "Epoch 11/32\n",
      "218/218 [==============================] - 13s 62ms/step - loss: 0.4782 - acc: 0.7743 - val_loss: 0.4665 - val_acc: 0.7913\n",
      "Epoch 12/32\n",
      "218/218 [==============================] - 13s 61ms/step - loss: 0.4791 - acc: 0.7704 - val_loss: 0.4622 - val_acc: 0.7727\n",
      "Epoch 13/32\n",
      "218/218 [==============================] - 13s 61ms/step - loss: 0.4634 - acc: 0.7791 - val_loss: 0.4423 - val_acc: 0.7975\n",
      "Epoch 14/32\n",
      "218/218 [==============================] - 13s 61ms/step - loss: 0.4559 - acc: 0.7783 - val_loss: 0.6917 - val_acc: 0.6302\n",
      "Epoch 15/32\n",
      "218/218 [==============================] - 13s 61ms/step - loss: 0.4343 - acc: 0.7971 - val_loss: 0.5056 - val_acc: 0.7521\n",
      "\n",
      "Epoch 00015: ReduceLROnPlateau reducing learning rate to 0.0002500000118743628.\n",
      "Epoch 16/32\n",
      "218/218 [==============================] - 13s 62ms/step - loss: 0.4076 - acc: 0.8108 - val_loss: 0.4050 - val_acc: 0.8079\n",
      "Epoch 17/32\n",
      "218/218 [==============================] - 13s 61ms/step - loss: 0.4019 - acc: 0.8168 - val_loss: 0.5520 - val_acc: 0.7169\n",
      "Epoch 18/32\n",
      "218/218 [==============================] - 14s 62ms/step - loss: 0.4028 - acc: 0.8222 - val_loss: 0.3967 - val_acc: 0.8285\n",
      "Epoch 19/32\n",
      "218/218 [==============================] - 13s 61ms/step - loss: 0.3819 - acc: 0.8324 - val_loss: 0.4022 - val_acc: 0.8161\n",
      "Epoch 20/32\n",
      "218/218 [==============================] - 13s 61ms/step - loss: 0.3802 - acc: 0.8239 - val_loss: 0.3646 - val_acc: 0.8554\n",
      "Epoch 21/32\n",
      "218/218 [==============================] - 13s 61ms/step - loss: 0.3802 - acc: 0.8327 - val_loss: 0.4326 - val_acc: 0.8037\n",
      "Epoch 22/32\n",
      "218/218 [==============================] - 13s 62ms/step - loss: 0.3616 - acc: 0.8396 - val_loss: 0.4514 - val_acc: 0.8079\n",
      "\n",
      "Epoch 00022: ReduceLROnPlateau reducing learning rate to 0.0001250000059371814.\n",
      "Epoch 23/32\n",
      "218/218 [==============================] - 14s 64ms/step - loss: 0.3545 - acc: 0.8334 - val_loss: 0.3706 - val_acc: 0.8347\n",
      "Epoch 24/32\n",
      "218/218 [==============================] - 13s 61ms/step - loss: 0.3482 - acc: 0.8468 - val_loss: 0.4412 - val_acc: 0.8079\n",
      "\n",
      "Epoch 00024: ReduceLROnPlateau reducing learning rate to 6.25000029685907e-05.\n",
      "Epoch 25/32\n",
      "218/218 [==============================] - 13s 60ms/step - loss: 0.3326 - acc: 0.8528 - val_loss: 0.3817 - val_acc: 0.8347\n",
      "Epoch 26/32\n",
      "218/218 [==============================] - 13s 60ms/step - loss: 0.3269 - acc: 0.8546 - val_loss: 0.3556 - val_acc: 0.8574\n",
      "Epoch 27/32\n",
      "218/218 [==============================] - 13s 60ms/step - loss: 0.3268 - acc: 0.8567 - val_loss: 0.3544 - val_acc: 0.8512\n",
      "Epoch 28/32\n",
      "218/218 [==============================] - 13s 61ms/step - loss: 0.3233 - acc: 0.8592 - val_loss: 0.3703 - val_acc: 0.8430\n",
      "\n",
      "Epoch 00028: ReduceLROnPlateau reducing learning rate to 3.125000148429535e-05.\n",
      "Epoch 29/32\n",
      "218/218 [==============================] - 13s 61ms/step - loss: 0.3259 - acc: 0.8561 - val_loss: 0.3665 - val_acc: 0.8554\n",
      "Epoch 30/32\n",
      " 97/218 [============>.................] - ETA: 6s - loss: 0.3142 - acc: 0.8645"
     ]
    }
   ],
   "source": [
    "history = model.fit_generator(\n",
    "    train_generator, \n",
    "    steps_per_epoch=n_train // batch_size,\n",
    "    epochs=32,\n",
    "    validation_data=val_generator,\n",
    "    validation_steps=n_val // batch_size,\n",
    "    callbacks = callbacks\n",
    ")"
   ]
  },
  {
   "cell_type": "code",
   "execution_count": 16,
   "metadata": {},
   "outputs": [],
   "source": [
    "model.save_weights(\"model_weights.h5\")\n",
    "model.save('model_keras.h5')"
   ]
  }
 ],
 "metadata": {
  "kernelspec": {
   "display_name": "Python 3",
   "language": "python",
   "name": "python3"
  },
  "language_info": {
   "codemirror_mode": {
    "name": "ipython",
    "version": 3
   },
   "file_extension": ".py",
   "mimetype": "text/x-python",
   "name": "python",
   "nbconvert_exporter": "python",
   "pygments_lexer": "ipython3",
   "version": "3.6.6"
  }
 },
 "nbformat": 4,
 "nbformat_minor": 1
}
